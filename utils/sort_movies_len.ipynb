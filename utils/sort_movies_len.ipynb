{
 "cells": [
  {
   "cell_type": "code",
   "execution_count": 1,
   "metadata": {
    "collapsed": true
   },
   "outputs": [],
   "source": [
    "import pandas as pd"
   ]
  },
  {
   "cell_type": "code",
   "execution_count": 2,
   "metadata": {
    "collapsed": true
   },
   "outputs": [],
   "source": [
    "movies = pd.read_csv('./movies.csv')\n",
    "ratings = pd.read_csv('./ratings.csv')"
   ]
  },
  {
   "cell_type": "code",
   "execution_count": 3,
   "metadata": {},
   "outputs": [
    {
     "name": "stderr",
     "output_type": "stream",
     "text": [
      "/home/xtzhao/anaconda3/lib/python3.6/site-packages/ipykernel_launcher.py:1: SettingWithCopyWarning: \n",
      "A value is trying to be set on a copy of a slice from a DataFrame\n",
      "\n",
      "See the caveats in the documentation: http://pandas.pydata.org/pandas-docs/stable/indexing.html#indexing-view-versus-copy\n",
      "  \"\"\"Entry point for launching an IPython kernel.\n",
      "/home/xtzhao/anaconda3/lib/python3.6/site-packages/ipykernel_launcher.py:2: SettingWithCopyWarning: \n",
      "A value is trying to be set on a copy of a slice from a DataFrame\n",
      "\n",
      "See the caveats in the documentation: http://pandas.pydata.org/pandas-docs/stable/indexing.html#indexing-view-versus-copy\n",
      "  \n"
     ]
    }
   ],
   "source": [
    "ratings['rating'][ratings['rating'] < 4.0] = 0\n",
    "ratings['rating'][ratings['rating'] >= 4.0] = 1"
   ]
  },
  {
   "cell_type": "code",
   "execution_count": 6,
   "metadata": {},
   "outputs": [],
   "source": [
    "def get_first_genre(genres):\n",
    "    return genres.split('|')[0]\n",
    "\n",
    "movies['genres'] = movies['genres'].apply(lambda x: get_first_genre(x))"
   ]
  },
  {
   "cell_type": "code",
   "execution_count": 7,
   "metadata": {
    "collapsed": true
   },
   "outputs": [],
   "source": [
    "ratings = ratings.merge(movies[['movieId', 'genres']])"
   ]
  },
  {
   "cell_type": "code",
   "execution_count": 8,
   "metadata": {
    "collapsed": true
   },
   "outputs": [],
   "source": [
    "ratings.sort_values(by='timestamp',axis=0, ascending=True, inplace=True)"
   ]
  },
  {
   "cell_type": "code",
   "execution_count": 9,
   "metadata": {},
   "outputs": [
    {
     "name": "stdout",
     "output_type": "stream",
     "text": [
      "Rating Shape: (20000263, 5)\n"
     ]
    }
   ],
   "source": [
    "print(\"Rating Shape: {}\".format(ratings.shape))"
   ]
  },
  {
   "cell_type": "code",
   "execution_count": 16,
   "metadata": {},
   "outputs": [],
   "source": [
    "ratings.to_csv('./sorted_impl_ratings.csv', index=None, sep='\\t')"
   ]
  },
  {
   "cell_type": "code",
   "execution_count": 13,
   "metadata": {},
   "outputs": [
    {
     "data": {
      "text/html": [
       "<div>\n",
       "<style>\n",
       "    .dataframe thead tr:only-child th {\n",
       "        text-align: right;\n",
       "    }\n",
       "\n",
       "    .dataframe thead th {\n",
       "        text-align: left;\n",
       "    }\n",
       "\n",
       "    .dataframe tbody tr th {\n",
       "        vertical-align: top;\n",
       "    }\n",
       "</style>\n",
       "<table border=\"1\" class=\"dataframe\">\n",
       "  <thead>\n",
       "    <tr style=\"text-align: right;\">\n",
       "      <th></th>\n",
       "      <th>userId</th>\n",
       "      <th>movieId</th>\n",
       "      <th>rating</th>\n",
       "      <th>timestamp</th>\n",
       "      <th>genres</th>\n",
       "    </tr>\n",
       "  </thead>\n",
       "  <tbody>\n",
       "    <tr>\n",
       "      <th>16933064</th>\n",
       "      <td>28507</td>\n",
       "      <td>1176</td>\n",
       "      <td>1.0</td>\n",
       "      <td>789652004</td>\n",
       "      <td>Drama</td>\n",
       "    </tr>\n",
       "    <tr>\n",
       "      <th>765628</th>\n",
       "      <td>131160</td>\n",
       "      <td>1079</td>\n",
       "      <td>0.0</td>\n",
       "      <td>789652009</td>\n",
       "      <td>Comedy</td>\n",
       "    </tr>\n",
       "    <tr>\n",
       "      <th>7371115</th>\n",
       "      <td>131160</td>\n",
       "      <td>21</td>\n",
       "      <td>0.0</td>\n",
       "      <td>789652009</td>\n",
       "      <td>Comedy</td>\n",
       "    </tr>\n",
       "    <tr>\n",
       "      <th>116714</th>\n",
       "      <td>131160</td>\n",
       "      <td>47</td>\n",
       "      <td>1.0</td>\n",
       "      <td>789652009</td>\n",
       "      <td>Mystery</td>\n",
       "    </tr>\n",
       "    <tr>\n",
       "      <th>15948094</th>\n",
       "      <td>85252</td>\n",
       "      <td>12</td>\n",
       "      <td>0.0</td>\n",
       "      <td>822873600</td>\n",
       "      <td>Comedy</td>\n",
       "    </tr>\n",
       "  </tbody>\n",
       "</table>\n",
       "</div>"
      ],
      "text/plain": [
       "          userId  movieId  rating  timestamp   genres\n",
       "16933064   28507     1176     1.0  789652004    Drama\n",
       "765628    131160     1079     0.0  789652009   Comedy\n",
       "7371115   131160       21     0.0  789652009   Comedy\n",
       "116714    131160       47     1.0  789652009  Mystery\n",
       "15948094   85252       12     0.0  822873600   Comedy"
      ]
     },
     "execution_count": 13,
     "metadata": {},
     "output_type": "execute_result"
    }
   ],
   "source": [
    "ratings.head()"
   ]
  },
  {
   "cell_type": "code",
   "execution_count": 25,
   "metadata": {},
   "outputs": [],
   "source": [
    "from collections import Counter\n",
    "genres_list = movies['genres'].values.tolist()\n",
    "movie_id_list = movies['movieId'].values.tolist()\n",
    "\n",
    "genre_counter = Counter()\n",
    "for genre in genres_list:\n",
    "    genre_counter.update([genre])\n",
    "\n",
    "genre_vocab_file = open('./genre_vocab', 'w', encoding='utf8')\n",
    "movie_id_vocab_file = open('./movie_id_vocab', 'w', encoding='utf8')\n",
    "\n",
    "movie_id_counter = Counter()\n",
    "for movie_id in movie_id_list:\n",
    "    movie_id_counter.update([movie_id])\n",
    "\n",
    "for genre, genre_cnt in genre_counter.most_common():\n",
    "    print(\"{}\\t{}\".format(genre, genre_cnt), file=genre_vocab_file)\n",
    "\n",
    "for movie_id, movie_id_cnt in movie_id_counter.most_common():\n",
    "    print(\"{}\\t{}\".format(movie_id, movie_id_cnt), file=movie_id_vocab_file)\n",
    "    \n",
    "genre_vocab_file.close()\n",
    "movie_id_vocab_file.close()"
   ]
  },
  {
   "cell_type": "code",
   "execution_count": 26,
   "metadata": {
    "collapsed": true
   },
   "outputs": [],
   "source": [
    "PAD_TOKEN = '<PAD>'\n",
    "UNKNOWN_TOKEN = '<UNK>'\n",
    "SENTENCE_START = '<SOS>'\n",
    "SENTENCE_END = '<EOS>'\n",
    "\n",
    "\n",
    "class Vocab(object):\n",
    "    def __init__(\n",
    "        self,\n",
    "        vocab_file,\n",
    "        max_size=10000000,\n",
    "        use_pad=True,\n",
    "        use_unk=True,\n",
    "        use_sos=True,\n",
    "        use_eos=True\n",
    "    ):\n",
    "        self.word2idx = {}\n",
    "        self.count = 0\n",
    "\n",
    "        if use_pad:\n",
    "            self.word2idx[PAD_TOKEN] = self.count\n",
    "            self.count += 1\n",
    "\n",
    "        if use_unk:\n",
    "            self.word2idx[UNKNOWN_TOKEN] = self.count\n",
    "            self.count += 1\n",
    "\n",
    "        if use_sos:\n",
    "            self.word2idx[SENTENCE_START] = self.count\n",
    "            self.count += 1\n",
    "\n",
    "        if use_eos:\n",
    "            self.word2idx[SENTENCE_END] = self.count\n",
    "            self.count += 1\n",
    "\n",
    "        with open(vocab_file, 'r', encoding='utf8') as vocab_f:\n",
    "            for index, line in enumerate(vocab_f):\n",
    "                items = line.strip().split('\\t')\n",
    "                if len(items) != 2:\n",
    "                    tf.logging.warn('Warning: wrong fromat in file: %s, line: %s' % (vocab_file, line))\n",
    "                    pass\n",
    "                else:\n",
    "                    word, word_cnt = items[0], items[1]\n",
    "                    self.word2idx[word] = self.count\n",
    "                    self.count += 1\n",
    "\n",
    "                if max_size != 0 and self.count >= max_size:\n",
    "                    print('max_size of vocab was specified as %i; we now have %i words.Stoping reading.' %\n",
    "                            (max_size, self.count))\n",
    "        self.idx2word = dict(list(zip(self.word2idx.values(), self.word2idx.keys())))\n",
    "        print('Finished constructing vocabulary of %i total words. Last word added: %s' %(self.count,\n",
    "            self.id2word(self.count - 1)))\n",
    "\n",
    "    def word2id(self, word):\n",
    "        if word not in self.word2idx:\n",
    "            return self.word2idx[UNKNOWN_TOKEN]\n",
    "        return self.word2idx[word]\n",
    "\n",
    "    def id2word(self, word_id):\n",
    "        if word_id not in self.idx2word:\n",
    "            raise ValueError('Id not found in vocab : %d' % word_id)\n",
    "        return self.idx2word[word_id]\n",
    "\n",
    "    def size(self):\n",
    "        return self.count"
   ]
  },
  {
   "cell_type": "code",
   "execution_count": 27,
   "metadata": {},
   "outputs": [
    {
     "name": "stdout",
     "output_type": "stream",
     "text": [
      "Finished constructing vocabulary of 20 total words. Last word added: IMAX\n",
      "Finished constructing vocabulary of 27278 total words. Last word added: 131262\n"
     ]
    }
   ],
   "source": [
    "genre_vocab = Vocab('./genre_vocab', 100000000, False, False, False, False)\n",
    "movieid_vocab = Vocab('./movie_id_vocab', 100000000, False, False, False, False)"
   ]
  },
  {
   "cell_type": "code",
   "execution_count": 30,
   "metadata": {},
   "outputs": [],
   "source": [
    "ratings = ratings.drop(['genres'], axis=1)"
   ]
  },
  {
   "cell_type": "code",
   "execution_count": 33,
   "metadata": {},
   "outputs": [
    {
     "data": {
      "text/plain": [
       "138493"
      ]
     },
     "execution_count": 33,
     "metadata": {},
     "output_type": "execute_result"
    }
   ],
   "source": [
    "len(set(ratings['userId'].values.tolist()))"
   ]
  }
 ],
 "metadata": {
  "kernelspec": {
   "display_name": "Python 3",
   "language": "python",
   "name": "python3"
  },
  "language_info": {
   "codemirror_mode": {
    "name": "ipython",
    "version": 3
   },
   "file_extension": ".py",
   "mimetype": "text/x-python",
   "name": "python",
   "nbconvert_exporter": "python",
   "pygments_lexer": "ipython3",
   "version": "3.6.1"
  }
 },
 "nbformat": 4,
 "nbformat_minor": 2
}
